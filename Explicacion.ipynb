{
 "cells": [
  {
   "cell_type": "markdown",
   "metadata": {},
   "source": [
    "# <font color='red'> <center>Felicitaciones!!!!!!!</center></font>\n",
    "\n",
    "Usted ha sido elegido para trabajar como el nuevo ingeniero en una de las compañías a nivel internacional más importantes en desarrollo de sistemas biomédicos y mecatrónicos: \n",
    "##### <font color='blue'> <center>El profe Mendez S.A.S</center></font>\n",
    "\n",
    "Se le incluye a un grupo de investigación, donde el líder le asigna como su primera tarea utilizar la base de datos del proyecto (esta es la que cada uno investigo como actividad complementaria del parcial) y realizar lo siguiente: \n",
    "\n",
    "1. Limpiar el dataset: \n",
    "\n",
    "- No puede estar ninguna fila o columna con un espacio vacío. Si el valor es numérico ponerle un 0 o el valor que usted considere pertinente, si el valor es de tipo str y pertenece por ejemplo a una columna 'Nombre' colocar como valor 'Sin nombre' en el espacio vacío o el mensaje que usted considere indicado.  \n",
    "\n",
    "- Si no hay manera de rellenar todos los espacios se deben eliminar las filas que queden con algún elemento vacío. **Si usted considera que se puede seguir trabajando con estas filas vacías, explique las razones en un comentario o en una casilla/celda de markdown. En caso contrario, explique cual es la importancia de trabajar con filas sin datos vacios.** \n",
    "\n",
    "- Utilice su criterio como ingeniero y conocedor del tema del proyecto para eliminar las columnas que no aporten de manera significativa datos o información para el proyecto. **Justifique en un comentario o en una casilla/celda de markdown cuál fue su criterio o analisis por el cual elimino dichas columnas. Tiene que haber una justificación para cada columna eliminada. Si no es necesario eliminar alguna columna, explique utilizando alguna como ejemplo para analizar qué pasaría si se quita, es decir, si por ejemplo usted tiene un dataset de una red social, y se borra la columna de nombres, explique cómo afectaría en el dataset o el manejo de los datos esto.** \n",
    "\n",
    "- Utilizando la función .replace() reemplace los valores del dataset que usted considere que necesitan una corrección de algún tipo. **Justifique en un comentario o en una casilla/celda de markdown cuales fueron los criterios para reemplazar dichos valores.** \n",
    "\n",
    "2. Informes: \n",
    "\n",
    "- Se tienen que crear 3 informes. Cada informe se va a considerar como un proceso de filtrado del dataset para llegar a obtener una informacion de interés. Para obtener informacion de interés utilizamos procesos como contar valores iguales o diferentes, encontrando que persona o conjunto de personas (o sujetos, empresas, como usted lo quiera ver) tienen más o menos en una columna  uotro tipo de procesos que aporte alguna informacion o dato que directamente el dataset no permita observa o identificar. \n",
    "\n",
    "- Cada informe tiene que tener una gráfica con los datos encontrados y una tabla(dataframe) que respalde la informacion mostrada en la gráfica. **Justifique su criterio de selección de tipos de graficas. Por ejemplo explicando porque para comparar dos cantidades diferentes es más fácil mirarlo en bar que en scatter. En otras palabras , tiene que haber una explicacion de porque se uso por ejemplo plot y no pie para ciertos datos encontrados en un informe.** \n",
    "\n",
    "- **Se tiene que justificar en una casilla de markdown por que se eligieron esos 3 procesos, que tienen de especial, porque no otros, que tienen de importantes o cualquier tipo de explicación que permita entender usted porque eligió esos 3 y bajo que conceptos o criterios los considera importantes. Se tiene que explicar uno por uno.** \n",
    "\n",
    "- Se debe tratar de buscar que los informes no dependan siempre de los mismos datos y de que se pueda ingresar informacion por consola de manera que el tipo de informe siempre busque el mismo resultado, pero buscando por diferentes tipos de personas, empresas, objetos o elementos que dependa el dataset. \n",
    "    \n",
    "    \n",
    "3. Programa final: \n",
    "\n",
    "- Se debe disponer de todo lo pedido en algún tipo de programa (un menú por consola, por ejemplo) que permita manejar o administrar los informes de manera fácil y sencilla. \n",
    "\n",
    "- Agregue todas las funcionalidades que usted considere necesarias para poder manejar la informacion de manera rápida y eficiente. \n",
    "\n",
    "- Se deben mostrar todos los mensajes necesarios para que una persona que no sepa programar sea capaz de identificar que tiene que ir ingresando o haciendo para que el programa funcione según lo planeado. \n",
    "\n",
    "- Si considera que necesita herramientas o funcionalidades que no se han visto en clase, no le de miedo en investigarlas e implementarlas en su código. \n",
    "\n",
    "- Todos los archivos(csv o xlsx) que se lean o se guarden deben estar en la carpeta datos. Lo mismo para el caso de las imágenes, pero en la carpeta img. \n",
    " \n",
    "\n",
    "Si en las partes donde se especifica que se tiene que justificar no se encuentra ningún comentario, es lo mismo que no hacer esta parte. \n",
    "  \n",
    "Desarrolle el algoritmo en el archivo nombreApellido y cambie el nombre de este según el formato. \n",
    "  \n",
    "Se tiene hasta el **lunes 4 de mayo a las 11:59 pm** para enviar una carpeta comprimida con su nombre y apellido al estilo del parcial. Archivos que lleguen un minuto después de la hora indicada tendrán la nota de 0.0. "
   ]
  }
 ],
 "metadata": {
  "kernelspec": {
   "display_name": "Python 3",
   "language": "python",
   "name": "python3"
  },
  "language_info": {
   "codemirror_mode": {
    "name": "ipython",
    "version": 3
   },
   "file_extension": ".py",
   "mimetype": "text/x-python",
   "name": "python",
   "nbconvert_exporter": "python",
   "pygments_lexer": "ipython3",
   "version": "3.7.6"
  }
 },
 "nbformat": 4,
 "nbformat_minor": 4
}
