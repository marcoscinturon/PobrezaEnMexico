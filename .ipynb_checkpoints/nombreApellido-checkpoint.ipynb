{
 "cells": [
  {
   "cell_type": "code",
   "execution_count": 2,
   "metadata": {},
   "outputs": [],
   "source": [
    "import pandas as pd\n",
    "import numpy as np\n",
    "df=pd.read_csv(\"datos/MexicoCaseStudy.csv\")"
   ]
  },
  {
   "cell_type": "code",
   "execution_count": null,
   "metadata": {},
   "outputs": [],
   "source": [
    "cont=0\n",
    "for i in list(df.columns):\n",
    "    for j in range(df.shape[0]):\n",
    "        if df[i][j]==\" \":\n",
    "            cont+=1\n",
    "print(cont) #no hay datos vacíos"
   ]
  },
  {
   "cell_type": "code",
   "execution_count": null,
   "metadata": {},
   "outputs": [],
   "source": [
    "lista2=[]\n",
    "for i in list(df[\"ADM2NAME\"]):\n",
    "    if \"?\" in i:\n",
    "        if i not in lista2:\n",
    "            lista2.append(i)\n",
    "print(lista2) "
   ]
  },
  {
   "cell_type": "code",
   "execution_count": 3,
   "metadata": {},
   "outputs": [
    {
     "name": "stdout",
     "output_type": "stream",
     "text": [
      "['Nuevo Le?n', 'San Luis Potos?', 'Quer?taro de Arteaga', 'M?xico']\n"
     ]
    },
    {
     "data": {
      "text/plain": [
       "4"
      ]
     },
     "execution_count": 3,
     "metadata": {},
     "output_type": "execute_result"
    }
   ],
   "source": [
    "lista1=[]\n",
    "for i in list(df[\"ADM1NAME\"]):\n",
    "    if \"?\" in i:\n",
    "        if i not in lista1:\n",
    "            lista1.append(i)\n",
    "print(lista1)"
   ]
  },
  {
   "cell_type": "code",
   "execution_count": 3,
   "metadata": {},
   "outputs": [
    {
     "name": "stdout",
     "output_type": "stream",
     "text": [
      "Buscando municipios mas apartados...\n",
      "finalizado\n",
      "Buscando promedio de población rural...\n",
      "finalizado\n",
      "iniciando filtrado según pobreza alimentaria\n"
     ]
    },
    {
     "name": "stderr",
     "output_type": "stream",
     "text": [
      "C:\\Users\\marco\\miniconda3\\lib\\site-packages\\ipykernel_launcher.py:60: SettingWithCopyWarning: \n",
      "A value is trying to be set on a copy of a slice from a DataFrame\n",
      "\n",
      "See the caveats in the documentation: https://pandas.pydata.org/pandas-docs/stable/user_guide/indexing.html#returning-a-view-versus-a-copy\n",
      "C:\\Users\\marco\\miniconda3\\lib\\site-packages\\ipykernel_launcher.py:61: SettingWithCopyWarning: \n",
      "A value is trying to be set on a copy of a slice from a DataFrame\n",
      "\n",
      "See the caveats in the documentation: https://pandas.pydata.org/pandas-docs/stable/user_guide/indexing.html#returning-a-view-versus-a-copy\n"
     ]
    },
    {
     "name": "stdout",
     "output_type": "stream",
     "text": [
      "finalizado\n"
     ]
    }
   ],
   "source": [
    "df=df.replace(\"Nuevo Le?n\",\"Nuevo León\")\n",
    "df=df.replace(\"San Luis Potos?\",\"San Luis Potosí\")\n",
    "df=df.replace(\"Quer?taro de Arteaga\",\"Querétaro de Arteaga\")\n",
    "df=df.replace(\"M?xico\",\"México\")\n",
    "\n",
    "df=df.drop([\"MUNIG_\",\"MUNIG_ID\",\"ADM1CODE\",\"ADM2CODE\"],axis=1)\n",
    "#elimino estas columnas porque son de un código propio de México para nombrar estados y municipalidades\n",
    "#que no tengo idea de como funciona\n",
    "#Además ya tengo los nombres de esos estados y municipalidades\n",
    "#El p\n",
    "df=df.drop([\"PERIMETER\",\"MEANILIT15\",\"MEANSELE15\",\"MEANCELE15\",\"MEANSSEC15\",\"MEANCSEC15\",\"MEANY2000\",\"MEANY2002\",\"FOODEXP\",\"POPDENS\"],axis=1)\n",
    "\n",
    "NuevosNombresColumnas={\"ADM1NAME\": \"ESTADOS\", \n",
    "                        \"ADM2NAME\": \"MUNICIPIOS\",\n",
    "                        \"RURPER\":\"POBLACION RURAL\",\n",
    "                        \"FGT_0RUR00\":\"POBREZA ALIMENTARIA 2000\",\n",
    "                        \"FGT_0RUR02\":\"POBREZA ALIMENTARIA 2002\",\n",
    "                        \"ACCESO\":\"ACCESO (min)\"\n",
    "                      } \n",
    "df=df.rename(columns=NuevosNombresColumnas)\n",
    "df=df.drop_duplicates([\"MUNICIPIOS\"], keep='last', ignore_index=True) #elimino los municipios repetidos\n",
    "df=df.sort_values(\"ESTADOS\",ignore_index=True)\n",
    "df.to_csv(\"datos/MexicoPobrezaOrdenado.csv\", index=False)\n",
    "\n",
    "arregloEstados=df[\"ESTADOS\"].unique()\n",
    "arregloEstados=np.sort(arregloEstados)\n",
    "indices=np.arange(0,arregloEstados.shape[0])\n",
    "Estados=pd.DataFrame(arregloEstados,columns=[\"ESTADO\"],index=indices)#dataframe de una columna con los estados\n",
    "\n",
    "print(\"Buscando municipios mas apartados...\")\n",
    "dfMasApartados=pd.DataFrame(columns=[\"ESTADOS\",\"MUNICIPIOS\",\"ACCESO (min)\"])\n",
    "for i in range(Estados.shape[0]):\n",
    "    estado=Estados[\"ESTADO\"][i]\n",
    "    dfPorEstado1=df.loc[df[\"ESTADOS\"]==estado]\n",
    "    MasApartados=dfPorEstado1.sort_values(\"ACCESO (min)\", ascending=False, ignore_index=True)[0:3]\n",
    "    MasApartados=MasApartados.loc[:,[\"ESTADOS\",\"MUNICIPIOS\",\"ACCESO (min)\"]]\n",
    "    dfMasApartados=pd.concat([dfMasApartados, MasApartados],axis=0, ignore_index=True)\n",
    "dfMasApartados.to_csv(\"datos/MunicipiosMasApartados.csv\", index=False)\n",
    "print(\"finalizado\")\n",
    "\n",
    "print(\"Buscando promedio de población rural...\")\n",
    "dfRURAL=pd.DataFrame(columns=[\"ESTADOS\",\"POBLACION RURAL (MEDIA)\"])\n",
    "for i in range(Estados.shape[0]):\n",
    "    estado=Estados[\"ESTADO\"][i]\n",
    "    dfPorEstado2=df.loc[df[\"ESTADOS\"]==estado]\n",
    "    mediaRural=dfPorEstado2[\"POBLACION RURAL\"].mean()\n",
    "    fila=pd.DataFrame([[Estados[\"ESTADO\"][i],mediaRural]],columns=dfRURAL.columns)\n",
    "    dfRURAL=dfRURAL.append(fila, ignore_index=True)\n",
    "dfRURAL=dfRURAL.sort_values(\"POBLACION RURAL (MEDIA)\", ascending=False,ignore_index=True)\n",
    "dfRURAL.to_csv(\"datos/MayorPoblacionRural.csv\", index=False)\n",
    "print(\"finalizado\")\n",
    "\n",
    "\n",
    "#POBREZA ALIMENTARIA 2002 y POBREZA ALIMENTARIA 2000 son la fracción prevista de hogares rurales por debajo del umbral de pobreza alimentaria en 2002 y 2000\n",
    "#a continuación las convierto en porcentaje y busco la diferencia\n",
    "print(\"iniciando filtrado según pobreza alimentaria\")\n",
    "dfDIFERENCIA=pd.DataFrame(columns=[\"ESTADOS\",\"MUNICIPIOS\",\"POBREZA ALIMENTARIA 2000\",\"POBREZA ALIMENTARIA 2002\",\"DIFERENCIA\"])\n",
    "filaDiferencia=[]\n",
    "for i in range(df.shape[0]):\n",
    "    df[\"POBREZA ALIMENTARIA 2000\"][i]*=100\n",
    "    df[\"POBREZA ALIMENTARIA 2002\"][i]*=100\n",
    "    diferencia=df[\"POBREZA ALIMENTARIA 2000\"][i]-df[\"POBREZA ALIMENTARIA 2002\"][i]\n",
    "    filaDiferencia.append(diferencia)\n",
    "df[\"DIFERENCIA\"]=filaDiferencia\n",
    "for i in range (Estados.shape[0]):\n",
    "    estado=Estados[\"ESTADO\"][i]\n",
    "    dfPorEstado3=df.loc[df[\"ESTADOS\"]==estado]\n",
    "    dfPorEstado3=dfPorEstado3.sort_values(\"DIFERENCIA\", ascending=False, ignore_index=True)\n",
    "    nuevaFila1=dfPorEstado3.iloc[[0]]\n",
    "    nuevaFila1=nuevaFila1.loc[:,[\"ESTADOS\",\"MUNICIPIOS\",\"POBREZA ALIMENTARIA 2000\",\"POBREZA ALIMENTARIA 2002\",\"DIFERENCIA\"]]\n",
    "    nuevaFila2=dfPorEstado3.iloc[[-1]] \n",
    "    nuevaFila2=nuevaFila2.loc[:,[\"ESTADOS\",\"MUNICIPIOS\",\"POBREZA ALIMENTARIA 2000\",\"POBREZA ALIMENTARIA 2002\",\"DIFERENCIA\"]]\n",
    "    dfDIFERENCIA=pd.concat([dfDIFERENCIA, nuevaFila1],axis=0, ignore_index=True)\n",
    "    dfDIFERENCIA=pd.concat([dfDIFERENCIA, nuevaFila2],axis=0, ignore_index=True)\n",
    "dfDIFERENCIA.to_csv(\"datos/PobrezaAlimentaria.csv\", index=False)    \n",
    "print(\"finalizado\")    "
   ]
  },
  {
   "cell_type": "code",
   "execution_count": 16,
   "metadata": {},
   "outputs": [],
   "source": [
    "from matplotlib import pyplot as plt \n",
    "import random\n",
    "\n",
    "arregloMunicipios=df[\"MUNICIPIOS\"]\n",
    "arregloMunicipios=np.sort(arregloMunicipios)\n",
    "indices=np.arange(0,arregloMunicipios.shape[0])\n",
    "Municipios=pd.DataFrame(arregloMunicipios,columns=[\"MUNICIPIO\"],index=indices)#dataframe de una columna con los municipios\n",
    "\n",
    "def mostrarMunicipiosApartados(dato):\n",
    "    municipios=dfMasApartados.loc[dfMasApartados[\"ESTADOS\"]==dato]\n",
    "    municipios=municipios.drop([\"ESTADOS\"],axis=1)\n",
    "    municipios=municipios.reset_index(drop=True)\n",
    "    print(\"los 3 municipios de {} mas alejados de los centros urbanos son:\".format(dato))\n",
    "    print(\" \")\n",
    "    print(municipios)\n",
    "    print(\" \")\n",
    "    \n",
    "    municipios.plot.bar(x=\"MUNICIPIOS\", y=\"ACCESO (min)\", rot=0)\n",
    "    plt.show()\n",
    "    \n",
    "def mostrarPoblacionRural(dato):\n",
    "    print(\"el promedio del porcentaje de población rural en {} es:\".format(dato))\n",
    "    print(\" \")\n",
    "    indice=(list(dfRURAL[\"ESTADOS\"])).index(dato)\n",
    "    print(dfRURAL.iloc[[indice]])\n",
    "    print(\" \")\n",
    "    \n",
    "    municipios=df.loc[df[\"ESTADOS\"]==dato]\n",
    "    municipios=municipios.reset_index(drop=True)\n",
    "    municipios=municipios.loc[:,[\"MUNICIPIOS\",\"POBLACION RURAL\"]]\n",
    "    \n",
    "    plt.ion()\n",
    "    listaColores=['blue', 'orange', 'green', 'red', 'purple', 'brown', 'pink', 'gray', 'olive', 'cyan']\n",
    "    color=random.choice(listaColores)              \n",
    "    x=np.arange(0,municipios[\"MUNICIPIOS\"].shape[0])\n",
    "    y=np.array(municipios[\"POBLACION RURAL\"])\n",
    "    \n",
    "    plt.scatter(x, y, s=100, c=color, marker='o',alpha=0.9)\n",
    "    plt.show()\n",
    "    "
   ]
  },
  {
   "cell_type": "code",
   "execution_count": 17,
   "metadata": {},
   "outputs": [
    {
     "name": "stdout",
     "output_type": "stream",
     "text": [
      "el promedio del porcentaje de población rural en Oaxaca es:\n",
      " \n",
      "  ESTADOS  POBLACION RURAL (MEDIA)\n",
      "0  Oaxaca                83.333538\n",
      " \n"
     ]
    },
    {
     "data": {
      "image/png": "[encoded data removed]",
      "text/plain": [
       "<Figure size 432x288 with 1 Axes>"
      ]
     },
     "metadata": {
      "needs_background": "light"
     },
     "output_type": "display_data"
    }
   ],
   "source": [
    "mostrarPoblacionRural(\"Oaxaca\")\n"
   ]
  },
  {
   "cell_type": "code",
   "execution_count": 34,
   "metadata": {},
   "outputs": [
    {
     "name": "stdout",
     "output_type": "stream",
     "text": [
      "el promedio del porcentaje de población rural en Baja California Sur es:\n",
      " \n",
      "                ESTADOS  POBLACION RURAL (MEDIA)\n",
      "28  Baja California Sur                27.108233\n",
      " \n"
     ]
    },
    {
     "data": {
      "image/png": "[encoded data removed]",
      "text/plain": [
       "<Figure size 432x288 with 1 Axes>"
      ]
     },
     "metadata": {
      "needs_background": "light"
     },
     "output_type": "display_data"
    }
   ],
   "source": [
    "mostrarPoblacionRural(\"Baja California Sur\")"
   ]
  },
  {
   "cell_type": "code",
   "execution_count": null,
   "metadata": {},
   "outputs": [],
   "source": []
  }
 ],
 "metadata": {
  "kernelspec": {
   "display_name": "Python 3",
   "language": "python",
   "name": "python3"
  },
  "language_info": {
   "codemirror_mode": {
    "name": "ipython",
    "version": 3
   },
   "file_extension": ".py",
   "mimetype": "text/x-python",
   "name": "python",
   "nbconvert_exporter": "python",
   "pygments_lexer": "ipython3",
   "version": "3.7.6"
  }
 },
 "nbformat": 4,
 "nbformat_minor": 4
}
