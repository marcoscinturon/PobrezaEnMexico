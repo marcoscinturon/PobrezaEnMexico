{
 "cells": [
  {
   "cell_type": "code",
   "execution_count": 5,
   "metadata": {},
   "outputs": [],
   "source": [
    "import pandas as pd\n",
    "import numpy as np\n",
    "df=pd.read_csv(\"datos/MexicoCaseStudy.csv\")"
   ]
  },
  {
   "cell_type": "code",
   "execution_count": null,
   "metadata": {},
   "outputs": [],
   "source": [
    "cont=0\n",
    "for i in list(df.columns):\n",
    "    for j in range(df.shape[0]):\n",
    "        if df[i][j]==\" \":\n",
    "            cont+=1\n",
    "print(cont) #no hay datos vacíos"
   ]
  },
  {
   "cell_type": "markdown",
   "metadata": {},
   "source": [
    "Tener dataframes con datos vacíos puede generar varios inconvenientes. Puede hacer que una fila sea completamente inutil si, por ejemplo, el valor faltante correspondía a un nombre; o si se decide llenar los valores numéricos faltantes, los cálculos que se hagan posteriormente se verán afectados."
   ]
  },
  {
   "cell_type": "code",
   "execution_count": null,
   "metadata": {},
   "outputs": [],
   "source": [
    "lista2=[]\n",
    "for i in list(df[\"ADM2NAME\"]):\n",
    "    if \"?\" in i:\n",
    "        if i not in lista2:\n",
    "            lista2.append(i)\n",
    "print(lista2) #lista con los municipios que tienen \"?\" en lugar de tildes"
   ]
  },
  {
   "cell_type": "code",
   "execution_count": null,
   "metadata": {},
   "outputs": [],
   "source": [
    "lista1=[]\n",
    "for i in list(df[\"ADM1NAME\"]):\n",
    "    if \"?\" in i:\n",
    "        if i not in lista1:\n",
    "            lista1.append(i)\n",
    "print(lista1) #lista con los estados que tienen \"?\" en lugar de tildes "
   ]
  },
  {
   "cell_type": "markdown",
   "metadata": {},
   "source": [
    "Columnas eliminadas: \n",
    "\n",
    "las columnas MUNIG_ y MUNIG_ID se supone que son de un código propio de México para nombrar estados y municipios que no tengo idea de como funciona. Además ya tengo los nombres de esos estados y municipalidades, y es mejor trabajar con ellos pues es la forma en que la gente mejor reconoce esos lugares.\n",
    "\n",
    "las columnas ADM1CODE y ADM2CODE también son código para nombrar estados y municipios, y aunque este si entiendo como funciona, no es relevante por la misma razón que mensioné anteriormente.\n",
    "\n",
    "Las columnas MEANILIT15, MEANSELE15, MEANCELE15, MEANSSEC15 y MEANCSEC15 fueron muy particulares. Según la información que hay sobre el dataset, esas columnas son de \"número de miembros del hogar mayores de 15 años que...\", números enteros pensaría uno, pero los datos estaban dados como 0,45651 por ejemplo. Como no era posible determinar a qué correspondían realmente esos datos, consideré mas apropiado no usarlos y eliminar las columnas.\n",
    "\n",
    "La columna PERIMETER corresponde al perímetro de los municipios, pero no se mensiona en qué están dados esos perímetros (m, km, millas), como los números eran tan pequeños no era fácil deducir las unidades y no encontré información en internet al respecto. Por todo esto decidí que no era información útil"
   ]
  },
  {
   "cell_type": "code",
   "execution_count": null,
   "metadata": {},
   "outputs": [],
   "source": [
    "df=df.replace(\"Nuevo Le?n\",\"Nuevo León\")\n",
    "df=df.replace(\"San Luis Potos?\",\"San Luis Potosí\")\n",
    "df=df.replace(\"Quer?taro de Arteaga\",\"Querétaro de Arteaga\")\n",
    "df=df.replace(\"M?xico\",\"México\")\n",
    "\n",
    "df=df.drop([\"MUNIG_\",\"MUNIG_ID\",\"ADM1CODE\",\"ADM2CODE\",\"PERIMETER\",\"MEANILIT15\",\"MEANSELE15\",\"MEANCELE15\",\"MEANSSEC15\",\"MEANCSEC15\"],axis=1)\n",
    "\n",
    "NuevosNombresColumnas={\"ADM1NAME\": \"ESTADOS\", \n",
    "                        \"ADM2NAME\": \"MUNICIPIOS\",\n",
    "                        \"RURPER\":\"POBLACION RURAL\",\n",
    "                        \"FGT_0RUR00\":\"POBREZA ALIMENTARIA 2000\",\n",
    "                        \"FGT_0RUR02\":\"POBREZA ALIMENTARIA 2002\",\n",
    "                        \"ACCESO\":\"ACCESO (min)\"\n",
    "                      } \n",
    "df=df.rename(columns=NuevosNombresColumnas)\n",
    "df=df.drop_duplicates([\"MUNICIPIOS\"], keep='last', ignore_index=True) #tenía varias filas repetidas, por ello elimino los municipios repetidos.\n",
    "df=df.sort_values(\"ESTADOS\",ignore_index=True)\n",
    "df.to_csv(\"datos/MexicoPobrezaOrdenado.csv\", index=False)\n",
    "\n",
    "arregloEstados=df[\"ESTADOS\"].unique()\n",
    "arregloEstados=np.sort(arregloEstados)\n",
    "indices=np.arange(0,arregloEstados.shape[0])\n",
    "Estados=pd.DataFrame(arregloEstados,columns=[\"ESTADO\"],index=indices)#dataframe de una columna con los estados\n",
    "\n",
    "print(\"Buscando municipios mas apartados...\")\n",
    "dfMasApartados=pd.DataFrame(columns=[\"ESTADOS\",\"MUNICIPIOS\",\"ACCESO (min)\"])\n",
    "for i in range(Estados.shape[0]):\n",
    "    estado=Estados[\"ESTADO\"][i]\n",
    "    dfPorEstado1=df.loc[df[\"ESTADOS\"]==estado]\n",
    "    MasApartados=dfPorEstado1.sort_values(\"ACCESO (min)\", ascending=False, ignore_index=True)[0:3]\n",
    "    MasApartados=MasApartados.loc[:,[\"ESTADOS\",\"MUNICIPIOS\",\"ACCESO (min)\"]]\n",
    "    dfMasApartados=pd.concat([dfMasApartados, MasApartados],axis=0, ignore_index=True)\n",
    "dfMasApartados.to_csv(\"datos/MunicipiosMasApartados.csv\", index=False)\n",
    "print(\"finalizado\")\n",
    "\n",
    "print(\"Buscando promedio de población rural...\")\n",
    "dfRURAL=pd.DataFrame(columns=[\"ESTADOS\",\"POBLACION RURAL (MEDIA)\"])\n",
    "for i in range(Estados.shape[0]):\n",
    "    estado=Estados[\"ESTADO\"][i]\n",
    "    dfPorEstado2=df.loc[df[\"ESTADOS\"]==estado]\n",
    "    mediaRural=dfPorEstado2[\"POBLACION RURAL\"].mean()\n",
    "    fila=pd.DataFrame([[Estados[\"ESTADO\"][i],mediaRural]],columns=dfRURAL.columns)\n",
    "    dfRURAL=dfRURAL.append(fila, ignore_index=True)\n",
    "dfRURAL=dfRURAL.sort_values(\"POBLACION RURAL (MEDIA)\", ascending=False,ignore_index=True)\n",
    "dfRURAL.to_csv(\"datos/MayorPoblacionRural.csv\", index=False)\n",
    "print(\"finalizado\")\n",
    "\n",
    "\n",
    "#POBREZA ALIMENTARIA 2002 y POBREZA ALIMENTARIA 2000 son la fracción prevista de hogares rurales por debajo del umbral de pobreza alimentaria en 2002 y 2000\n",
    "#a continuación las convierto en porcentaje y busco la diferencia\n",
    "print(\"iniciando filtrado según pobreza alimentaria\")\n",
    "dfDIFERENCIA=pd.DataFrame(columns=[\"ESTADOS\",\"MUNICIPIOS\",\"POBREZA ALIMENTARIA 2000\",\"POBREZA ALIMENTARIA 2002\",\"DIFERENCIA\"])\n",
    "filaDiferencia=[]\n",
    "for i in range(df.shape[0]):\n",
    "    df[\"POBREZA ALIMENTARIA 2000\"][i]*=100\n",
    "    df[\"POBREZA ALIMENTARIA 2002\"][i]*=100\n",
    "    diferencia=df[\"POBREZA ALIMENTARIA 2000\"][i]-df[\"POBREZA ALIMENTARIA 2002\"][i]\n",
    "    filaDiferencia.append(diferencia)\n",
    "df[\"DIFERENCIA\"]=filaDiferencia\n",
    "for i in range (Estados.shape[0]):\n",
    "    estado=Estados[\"ESTADO\"][i]\n",
    "    dfPorEstado3=df.loc[df[\"ESTADOS\"]==estado]\n",
    "    dfPorEstado3=dfPorEstado3.sort_values(\"DIFERENCIA\", ascending=False, ignore_index=True)\n",
    "    nuevaFila1=dfPorEstado3.iloc[[0]]\n",
    "    nuevaFila1=nuevaFila1.loc[:,[\"ESTADOS\",\"MUNICIPIOS\",\"POBREZA ALIMENTARIA 2000\",\"POBREZA ALIMENTARIA 2002\",\"DIFERENCIA\"]]\n",
    "    nuevaFila2=dfPorEstado3.iloc[[-1]] \n",
    "    nuevaFila2=nuevaFila2.loc[:,[\"ESTADOS\",\"MUNICIPIOS\",\"POBREZA ALIMENTARIA 2000\",\"POBREZA ALIMENTARIA 2002\",\"DIFERENCIA\"]]\n",
    "    dfDIFERENCIA=pd.concat([dfDIFERENCIA, nuevaFila1],axis=0, ignore_index=True)\n",
    "    dfDIFERENCIA=pd.concat([dfDIFERENCIA, nuevaFila2],axis=0, ignore_index=True)\n",
    "dfDIFERENCIA.to_csv(\"datos/PobrezaAlimentaria.csv\", index=False)    \n",
    "print(\"finalizado\")    "
   ]
  },
  {
   "cell_type": "markdown",
   "metadata": {},
   "source": [
    "Municipios mas apartados:\n",
    "Me pareció importante tomar los tres municipios de cada estado mas apartados de los centros urbanos pues pueden ser los mas propensos a quedar olvidados y a que no les llegue recursos.\n",
    "\n",
    "Población rural:\n",
    "Esto no muestra en sí la media de porcentaje población rural porque hace falta considerar otros factores. Lo que realmente quería era mostrar qué estados tienen mayor cantidad de municipios con alto porcentaje de población rural, porque creo que estos estados tienen un reto aun mas grande para superar el resago, en cuanto a oportunidades, presente en las zonas rurales.\n",
    "\n",
    "Pobreza alimenticia:\n",
    "Con esto busco resaltar, por cada estado, el que mas lograró disminuir el porcentaje de hogares por debajo del umbral de pobreza alimenticia y el municipio que menos lo disminuyó o que incluso lo aumentó. Hago esto pues algunas de las consecencias mas frecuentes de la pobreza extrema son el hambre y la desnutrición, entonces uno así puede hacer un contraste entre los que mejoraron y los que empeoraron para posteriormente mirar en esos lugares lo que se ha hecho y lo que se puede mejorar. En sí yo no encuentro esas respuestas pues no tengo esos datos, sino que indico los lugares en los que se debe mirar."
   ]
  },
  {
   "cell_type": "code",
   "execution_count": 16,
   "metadata": {},
   "outputs": [],
   "source": [
    "from matplotlib import pyplot as plt \n",
    "import random\n",
    "\n",
    "def mostrarMunicipiosApartados(dato):\n",
    "    municipios=dfMasApartados.loc[dfMasApartados[\"ESTADOS\"]==dato]\n",
    "    municipios=municipios.drop([\"ESTADOS\"],axis=1)\n",
    "    municipios=municipios.reset_index(drop=True)\n",
    "    print(\"los 3 municipios de {} mas alejados de los centros urbanos son:\".format(dato))\n",
    "    print(\" \")\n",
    "    print(municipios)\n",
    "    print(\" \")\n",
    "    \n",
    "    municipios.plot.bar(x=\"MUNICIPIOS\", y=\"ACCESO (min)\", rot=0)\n",
    "    plt.show()\n",
    "    \n",
    "def mostrarPoblacionRural(dato):\n",
    "    print(\"el promedio del porcentaje de población rural en {} es:\".format(dato))\n",
    "    print(\" \")\n",
    "    indice=(list(dfRURAL[\"ESTADOS\"])).index(dato)\n",
    "    print(dfRURAL.iloc[[indice]])\n",
    "    print(\" \")\n",
    "    \n",
    "    municipios=df.loc[df[\"ESTADOS\"]==dato]\n",
    "    municipios=municipios.reset_index(drop=True)\n",
    "    municipios=municipios.loc[:,[\"MUNICIPIOS\",\"POBLACION RURAL\"]]\n",
    "    \n",
    "    plt.ion()\n",
    "    listaColores=['blue', 'orange', 'green', 'red', 'purple', 'brown', 'pink', 'gray', 'olive', 'cyan']\n",
    "    color=random.choice(listaColores)              \n",
    "    x=np.arange(0,municipios[\"MUNICIPIOS\"].shape[0])\n",
    "    y=np.array(municipios[\"POBLACION RURAL\"])\n",
    "    \n",
    "    plt.scatter(x, y, s=100, c=color, marker='o',alpha=0.9)\n",
    "    plt.title(\"Porcentaje de poblacion rural de sus municipios\")\n",
    "    plt.ylabel(\"%\")\n",
    "    plt.show()\n",
    "    \n",
    "def mostrarPobrezaAlimenticia(dato):\n",
    "    municipios=dfDIFERENCIA.loc[dfDIFERENCIA[\"ESTADOS\"]==dato]\n",
    "    municipios=municipios.drop([\"ESTADOS\"])\n",
    "    dfParaGraficar=municipios.drop([\"DIFERENCIA\"])\n",
    "    dfParaGrafica=dfParaGrafica.set_index(\"MUNICIPIOS\") \n",
    "    print(\"Se muestra el municipio de {} que mayor cambio tuvo y el que menor cambio tuvo entre 2000 y 2002 \\n\".format(dato))\n",
    "    print(\"Nota: una diferencia negativa indica que AUMENTÓ el porcentaje de hogares por debajo del umbral pobreza alimenticia de 2000 a 2002 \\n\")\n",
    "    print(municipios)\n",
    "    \n",
    "    dfParaGraficar.plot.bar(rot=0)\n",
    "    plt.show()\n",
    "    \n",
    "    \n",
    "    "
   ]
  },
  {
   "cell_type": "markdown",
   "metadata": {},
   "source": [
    "\n"
   ]
  },
  {
   "cell_type": "code",
   "execution_count": null,
   "metadata": {},
   "outputs": [],
   "source": [
    "arregloMunicipios=df[\"MUNICIPIOS\"]\n",
    "arregloMunicipios=np.sort(arregloMunicipios)\n",
    "indices=np.arange(0,arregloMunicipios.shape[0])\n",
    "Municipios=pd.DataFrame(arregloMunicipios,columns=[\"MUNICIPIO\"],index=indices)#dataframe de una columna con los municipios\n",
    "\n",
    "While True:\n",
    "    \n",
    "    "
   ]
  }
 ],
 "metadata": {
  "kernelspec": {
   "display_name": "Python 3",
   "language": "python",
   "name": "python3"
  },
  "language_info": {
   "codemirror_mode": {
    "name": "ipython",
    "version": 3
   },
   "file_extension": ".py",
   "mimetype": "text/x-python",
   "name": "python",
   "nbconvert_exporter": "python",
   "pygments_lexer": "ipython3",
   "version": "3.7.3"
  }
 },
 "nbformat": 4,
 "nbformat_minor": 4
}
