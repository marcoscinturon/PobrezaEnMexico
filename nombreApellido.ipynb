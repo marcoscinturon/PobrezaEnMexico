{
 "cells": [
  {
   "cell_type": "code",
   "execution_count": 9,
   "metadata": {},
   "outputs": [],
   "source": [
    "import pandas as pd\n",
    "import numpy as np\n",
    "df=pd.read_csv(\"datos/MexicoCaseStudy.csv\")"
   ]
  },
  {
   "cell_type": "code",
   "execution_count": 18,
   "metadata": {},
   "outputs": [
    {
     "name": "stdout",
     "output_type": "stream",
     "text": [
      "0\n"
     ]
    }
   ],
   "source": [
    "cont=0\n",
    "for i in list(df.columns):\n",
    "    for j in range(df.shape[0]):\n",
    "        if df[i][j]==\" \":\n",
    "            cont+=1\n",
    "print(cont) #no hay datos vacíos"
   ]
  },
  {
   "cell_type": "markdown",
   "metadata": {},
   "source": [
    "Tener dataframes con datos vacíos puede generar varios inconvenientes. Puede hacer que una fila sea completamente inutil si, por ejemplo, el valor faltante correspondía a un nombre; o si se decide llenar los valores numéricos faltantes, los cálculos que se hagan posteriormente se verán afectados."
   ]
  },
  {
   "cell_type": "code",
   "execution_count": 19,
   "metadata": {},
   "outputs": [
    {
     "name": "stdout",
     "output_type": "stream",
     "text": [
      "['San Luis R?o Colorado', 'General Plutarco El?as Ca', 'Ascensi?n', 'Nacozari de Garc?a', 'Benjam?n Hill', 'Bacad?huachi', 'Hu?pac', 'Carb?', 'Ray?n', 'G?mez Far?as', 'Jim?nez', 'Tem?sachi', 'Cuauht?moc', 'Bach?niva', 'Matach?', 'Y?cora', 'Villa Uni?n', 'Dr. Belisario Dom?nguez', 'Carich?', 'Satev?', 'Muleg?', 'Ch?nipas', 'San Ignacio R?o Muerto', 'Cuatroci?negas', 'L?pez', 'Mapim?', 'Guanacev?', 'Gustavo D?az Ordaz', 'Ind?', 'R?o Bravo', 'Ci?nega de Flores', 'Mar?n', 'Garc?a', 'G?mez Palacio', 'Pesquer?a', 'San Pedro Garza Garc?a', 'Cadereyta Jim?nez', 'Torre?n', 'M?ndez', 'Cuencam?', 'General Sim?n Bol?var', 'Peñ?n Blanco', 'San Juan del R?o', 'Concepci?n del Oro', 'G\\x81?mez', 'R?o Grande', 'Jim?nez del Teul', 'Xicot?ncatl', 'Valpara?so', 'Ciudad del Ma?z', 'San Luis Potos?', 'Noria de ?ngeles', 'Cos?o', 'Tamu?n', 'Rinc?n de Romos', 'San Jos? de Gracia', 'Santa Mar?a de los ?ngele', 'Villa Garc?a', 'Pabell?n de Arteaga', 'Ru?z', 'El Plateado de Joaqu?n Am', 'Jesús Mar?a', 'Aquism?n', 'Santa Mar?a del R?o', 'San Mart?n de Bolaños', 'Encarnaci?n de D?az', 'Nochistlán de Mej?a', 'Tampamol?n Corona', 'Tamal?n', 'R?o Lagartos', 'San Diego de la Uni?n', 'Santa Mar?a del Oro', 'Tizim?n', 'San Mart?n Chalchicuautla', 'Citlalt?petl', 'Plat?n Sánchez', 'Yoba?n', 'Sinanch?', 'Le?n', 'Trinidad Garc?a de la Cad', 'Uni?n de San Antonio', 'Cañadas de Obreg?n', 'Ixtlán del R?o', 'M?rida', 'La Misi?n', 'San Crist?bal de la Barra', 'Pur?sima del Rinc?n', 'San Jos? Iturbide', 'San Joaqu?n', 'Cuqu?o', 'Ixtlahuacán del R?o', 'San Diego de Alejandr?a', 'Tekant?', 'San Francisco del Rinc?n', 'Cacalch?n', 'Temoz?n', 'Tixp?hual', 'Bah?a de Banderas', 'Kanas?n', 'El Marqu?s', 'Sey?', 'Col?n', 'Quer?taro', 'Calkin?', 'Zontecomatlán de L?pez y', 'Huh?', 'Halach?', 'Zacualtipán de ?ngeles', 'Opich?n', 'San Agust?n Metzquititlán', 'P?njamo', 'San Mart?n de Hidalgo', 'Guti?rrez Zamora', 'Man?', 'Huan?maro', 'Jer?cuaro', 'Progreso de Obreg?n', 'Yur?cuaro', 'Jos? Sixto Verduzco', 'Chacsink?n', 'Mart?nez de la Torre', 'Santiago Maravat?o', 'Hopelch?n', 'Jos? Mar?a Morelos', 'San Agust?n Tlaxiaca', 'Cojumatlán de R?gules', 'Morole?n', 'Uni?n de Tula', 'Panind?cuaro', 'Concepci?n de Buenos Aire', 'Villa Purificaci?n', 'Tepango de Rodr?guez', 'Zapotitlán de M?ndez', 'Tepeji del R?o de Ocampo', 'Maravat?o', 'Tanganc?cuaro', 'Pur?pero', 'Zinap?cuaro', '?lvaro Obreg?n', 'El Lim?n', 'Alto Lucero de Guti?rrez', 'Ting\\x81ind?n', 'Tar?mbaro', 'Quer?ndaro', 'Villa del Carb?n', 'San Mart?n de las Pirámid', 'Erongar?cuaro', 'Champot?n', 'Las Vigas de Ram?rez', 'Cuautitlán de Garc?a Barr', 'Sanct?rum de Lázaro Cárde', 'Tanc?taro', 'Nezahualc?yotl', '?rsulo Galván', 'Villa de ?lvarez', 'San Mat?as Tlalancaleca', 'San Jos? Teacalco', 'San Mart?n Texmelucan', 'San Jos? Chiapa', 'Oth?n P. Blanco', 'Nat?vitas', 'San Jer?nimo Zacualpan', 'Nocup?taro', 'Papalotla de Xicoht?ncatl', 'Tlacotepec de Mej?a', 'Mazatecochco de Jos? Mar?', 'Almoloya del R?o', 'Boca del R?o', 'Medell?n', 'Armer?a', 'Ixhuatlán del Caf?', 'General Felipe ?ngeles', 'San Jer?nimo Tecuanipan', 'San Andr?s Cholula', 'Camar?n de Tejeda', 'San Sim?n de Guerrero', 'C?rdoba', 'Fort?n', 'Cutzamala de Pinz?n', 'R?o Blanco', 'Tumbiscat?o', 'Tepeyahualco de Cuauht?mo', 'Coatlán del R?o', 'San Andr?s Tenejapan', '?ngel R. Cabada', 'San Andr?s Tuxtla', 'Taxco de Alarc?n', 'San Mart?n Totoltepec', 'Tepanco de L?pez', 'Juan N. M?ndez', 'Tepexi de Rodr?guez', 'Coahuayutla de Jos? Mar?a', 'Acatlán de P?rez Figueroa', 'Buenavista de Cu?llar', 'Ixcateopan de Cuauht?moc', 'Santa In?s Ahuatempan', 'Para?so', 'Jalpa de M?ndez', 'Santa Mar?a Chilchotla', 'Jos? Azueta', 'San Jos? Miahuatlán', 'San Jos? Independencia', 'San Jer?nimo Xayacatlán', 'Atenango del R?o', 'La Uni?n de Isidoro Monte', 'San Jos? Tenango', 'Teotitlán de Flores Mag?n', 'Santa Mar?a Teopoxco', 'San Antonio Nanahuat?pam', 'Huautla de Jim?nez', 'Juan Rodr?guez Clara', 'San Jer?nimo Tecoátl', 'San Mart?n Toxpalan', 'San Felipe Jalapa de D?az', 'San Juan Coatz?spam', 'Santa Mar?a la Asunci?n', 'San Juan de los Cu?s', 'Concepci?n Buenavista', 'San Bartolom? Ayautla', 'Santa Mar?a Tecomavaca', 'Santa Ana Cuauht?moc', 'San Andr?s Teotilalpam', 'San Jos? Chiltepec', 'San Jos? Ayuquila', 'Santa Mar?a Tlalixtac', 'Asunci?n Cuyotepeji', 'Santa Mar?a Camotlán', 'Santa Mar?a Jacatepec', 'Santa Mar?a Ixcatlán', 'Concepci?n Pápalo', 'San Sim?n Zahuatlán', 'Santa Mar?a Pápalo', 'San Mart?n Zacatepec', 'San Jer?nimo Silacayoapil', 'Guadalupe de Ram?rez', 'Santa Mar?a Texcatitlán', 'San Crist?bal Suchixtlahu', 'San Andr?s Dinicuiti', 'Villa Tejúpam de la Uni?n', 'T?cpan de Galeana', 'San Andr?s Tepetlapa', 'San Pedro Y?lox', 'Santa Mar?a Apazco', 'Chilapa de ?lvarez', 'Santa Mar?a Nativitas', 'Villa de Chilapa de D?az', 'San Agust?n Atenango', 'Santa Mar?a Chachoápam', 'San Andr?s Lagunas', 'San Juan Cotzoc?n', 'Asunci?n Nochixtlán', 'Atoyac de ?lvarez', 'San Jer?nimo Sosola', 'San Juan ¥um?', 'Santiago Yolom?catl', 'San Andr?s Sinaxtla', 'Santiago del R?o', 'San Juan Yae?', 'San Mart?n Peras', 'Coyuca de Ben?tez', 'Santa Mar?a Nduayaco', 'San Mart?n Huamelúlpam', 'Mat?as Romero', 'Santa Mar?a Jaltianguis', 'Teococuilco de Marcos P?r', 'Santa Mar?a Temaxcalapa', 'Francisco Le?n', 'San Crist?bal Lachirioag', 'Santa Mar?a del Rosario', 'Metlat?noc', 'San Miguel del R?o', 'Capulálpam de M?ndez', 'Santa In?s de Zaragoza', 'San Andr?s Yaá', 'Santa Mar?a Yalina', 'San Crist?bal Amoltepec', 'San Andr?s Solaga', 'Santiago Xiacu?', 'San Andr?s Nuxiño', 'Chil?n', 'San Bartolom? Zoogocho', 'San Mart?n Itunyoso', 'Santa Mar?a Yaves?a', 'Yajal?n', 'San Bartolom? Yucuañe', 'San Agust?n Tlacotepec', 'San Agust?n Etla', 'San Andr?s Zautla', 'San Andr?s Duraznal', 'Santa Mar?a Chimalapa', 'Santa Mar?a Tataltepec', 'Santa Mar?a Alotepec', 'San Andr?s Huayápam', 'Santa Mar?a Tlahuitoltepe', 'Santa Mar?a Peñoles', 'Santo Domingo Xagac?a', 'Villa D?az Ordaz', 'Santa Mar?a Yosoyúa', 'Pantelh?', 'Santa Mar?a Atzompa', 'Tamazulapam del Esp?ritu', 'Asunci?n Cacalotepec', 'San Agust?n Yatareni', 'San Andr?s Ixtlahuaca', 'Santa Mar?a Yucuhiti', 'Santiago Nuyo?', 'Santa Luc?a del Camino', 'San Jer?nimo Tlacochahuay', 'Chenalh?', 'Santa Mar?a del Tule', 'Chicoas?n', 'San Francisco Lachigol?', 'Rojas de Cuauht?moc', 'San Agust?n de las Juntas', 'Santa Mar?a Guelac?', 'Santa Mar?a Tepantlali', 'Santa Luc?a Monteverde', '?nimas Trujano', 'San Juan Guelav?a', 'Santa Mar?a Petapa', 'Santa Mar?a Coyotepec', 'Soyal?', 'Santa In?s del Monte', 'Zimatlán de ?lvarez', 'San Andr?s Cabecera Nueva', 'San Bartolom? Quialana', 'Zapotitlán del R?o', 'San Lucas Quiavin?', 'Ci?nega de Zimatlán', 'Santa Catarina Quian?', 'Santa Mar?a Yolotepec', 'Santa Mar?a Guienagati', 'Santa Mar?a Zacatepec', 'San Mart?n Tilcajete', 'Asunci?n Ixtaltepec', 'Tuxtla Guti?rrez', 'Santiago Ap?stol', 'Santa In?s Yatzeche', 'San Crist?bal de las Casa', 'Santa Mar?a Lachix?o', 'Asunci?n Ocotlán', 'San Jer?nimo Taviche', 'San Pedro Ap?stol', 'Santa Luc?a Ocotlán', 'San Jos? del Progreso', 'San Vicente Lachix?o', 'Santa Mar?a Ipalapa', 'Santa Mar?a Totolapilla', 'Santa Mar?a Zaniza', 'Santa Mar?a Zoquitlán', 'San Mart?n de los Canseco', 'La Compañ?a', 'Santa Mar?a Jalapa del Ma', 'San Mart?n Lachilá', 'Santa Mar?a Sola', 'San Andr?s Zabache', 'Benem?rito de las Am?rica', 'San Agust?n Amatengo', 'Comitán de Dom?nguez', 'San Agust?n Chayuco', 'Uni?n Hidalgo', 'Santa Mar?a Mixtequilla', 'Miahuatlán de Porfirio D?', 'Santa Mar?a Cortijo', 'Nicolás Ru?z', 'Marqu?s de Comillas', 'San Sim?n Almolongas', 'San Jos? Lachiguiri', 'Santa Mar?a Ecatepec', 'Santa Mar?a Xadani', 'San Jos? Estancia Grande', 'Santa Catalina Quier?', 'Asunci?n Tlacolulita', 'Tataltepec de Vald?s', 'San Andr?s Huaxpaltepec', 'Santa Mar?a Quiegolani', 'San Crist?bal Amatlán', 'San Jer?nimo Coatlán', 'San Jos? del Peñasco', 'Santa Mar?a Huazolotitlán', 'San Sebastián R?o Hondo', 'San Andr?s Paxtlán', 'Santa Luc?a Miahuatlán', 'Santa Mar?a Temaxcaltepec', 'San Mateo R?o Hondo', 'Santa Mar?a Ozolotepec', 'San Agust?n Loxicha', 'San Bartolom? Loxicha', 'Santa Mar?a Colotepec', 'Santa Mar?a Huatulco', '?ngel Albino Corzo', 'Santa Mar?a Tonameca', 'Uni?n Juárez']\n"
     ]
    }
   ],
   "source": [
    "lista2=[]\n",
    "for i in list(df[\"ADM2NAME\"]):\n",
    "    if \"?\" in i:\n",
    "        if i not in lista2:\n",
    "            lista2.append(i)\n",
    "print(lista2) #lista con los municipios que tienen \"?\" en lugar de tildes"
   ]
  },
  {
   "cell_type": "code",
   "execution_count": 20,
   "metadata": {},
   "outputs": [
    {
     "name": "stdout",
     "output_type": "stream",
     "text": [
      "['Nuevo Le?n', 'San Luis Potos?', 'Quer?taro de Arteaga', 'M?xico']\n"
     ]
    }
   ],
   "source": [
    "lista1=[]\n",
    "for i in list(df[\"ADM1NAME\"]):\n",
    "    if \"?\" in i:\n",
    "        if i not in lista1:\n",
    "            lista1.append(i)\n",
    "print(lista1) #lista con los estados que tienen \"?\" en lugar de tildes "
   ]
  },
  {
   "cell_type": "markdown",
   "metadata": {},
   "source": [
    "Columnas eliminadas: \n",
    "\n",
    "las columnas MUNIG_ y MUNIG_ID se supone que son de un código propio de México para nombrar estados y municipios que no tengo idea de como funciona. Además ya tengo los nombres de esos estados y municipalidades, y es mejor trabajar con ellos pues es la forma en que la gente mejor reconoce esos lugares.\n",
    "\n",
    "las columnas ADM1CODE y ADM2CODE también son código para nombrar estados y municipios, y aunque este si entiendo como funciona, no es relevante por la misma razón que mensioné anteriormente.\n",
    "\n",
    "Las columnas MEANILIT15, MEANSELE15, MEANCELE15, MEANSSEC15 y MEANCSEC15 fueron muy particulares. Según la información que hay sobre el dataset, esas columnas son de \"número de miembros del hogar mayores de 15 años que...\", números enteros pensaría uno, pero los datos estaban dados como 0,45651 por ejemplo. Como no era posible determinar a qué correspondían realmente esos datos, consideré mas apropiado no usarlos y eliminar las columnas.\n",
    "\n",
    "La columna PERIMETER corresponde al perímetro de los municipios, pero no se mensiona en qué están dados esos perímetros (m, km, millas), como los números eran tan pequeños no era fácil deducir las unidades y no encontré información en internet al respecto. Por todo esto decidí que no era información útil"
   ]
  },
  {
   "cell_type": "code",
   "execution_count": 21,
   "metadata": {},
   "outputs": [
    {
     "ename": "TypeError",
     "evalue": "drop_duplicates() got an unexpected keyword argument 'ignore_index'",
     "output_type": "error",
     "traceback": [
      "\u001b[1;31m---------------------------------------------------------------------------\u001b[0m",
      "\u001b[1;31mTypeError\u001b[0m                                 Traceback (most recent call last)",
      "\u001b[1;32m<ipython-input-21-862610d20a6c>\u001b[0m in \u001b[0;36m<module>\u001b[1;34m\u001b[0m\n\u001b[0;32m     14\u001b[0m                       } \n\u001b[0;32m     15\u001b[0m \u001b[0mdf\u001b[0m\u001b[1;33m=\u001b[0m\u001b[0mdf\u001b[0m\u001b[1;33m.\u001b[0m\u001b[0mrename\u001b[0m\u001b[1;33m(\u001b[0m\u001b[0mcolumns\u001b[0m\u001b[1;33m=\u001b[0m\u001b[0mNuevosNombresColumnas\u001b[0m\u001b[1;33m)\u001b[0m\u001b[1;33m\u001b[0m\u001b[1;33m\u001b[0m\u001b[0m\n\u001b[1;32m---> 16\u001b[1;33m \u001b[0mdf\u001b[0m\u001b[1;33m=\u001b[0m\u001b[0mdf\u001b[0m\u001b[1;33m.\u001b[0m\u001b[0mdrop_duplicates\u001b[0m\u001b[1;33m(\u001b[0m\u001b[1;33m[\u001b[0m\u001b[1;34m\"MUNICIPIOS\"\u001b[0m\u001b[1;33m]\u001b[0m\u001b[1;33m,\u001b[0m \u001b[0mkeep\u001b[0m\u001b[1;33m=\u001b[0m\u001b[1;34m'last'\u001b[0m\u001b[1;33m,\u001b[0m \u001b[0mignore_index\u001b[0m\u001b[1;33m=\u001b[0m\u001b[1;32mTrue\u001b[0m\u001b[1;33m)\u001b[0m \u001b[1;31m#tenía varias filas repetidas, por ello elimino los municipios repetidos.\u001b[0m\u001b[1;33m\u001b[0m\u001b[1;33m\u001b[0m\u001b[0m\n\u001b[0m\u001b[0;32m     17\u001b[0m \u001b[0mdf\u001b[0m\u001b[1;33m=\u001b[0m\u001b[0mdf\u001b[0m\u001b[1;33m.\u001b[0m\u001b[0msort_values\u001b[0m\u001b[1;33m(\u001b[0m\u001b[1;34m\"ESTADOS\"\u001b[0m\u001b[1;33m,\u001b[0m\u001b[0mignore_index\u001b[0m\u001b[1;33m=\u001b[0m\u001b[1;32mTrue\u001b[0m\u001b[1;33m)\u001b[0m\u001b[1;33m\u001b[0m\u001b[1;33m\u001b[0m\u001b[0m\n\u001b[0;32m     18\u001b[0m \u001b[0mdf\u001b[0m\u001b[1;33m.\u001b[0m\u001b[0mto_csv\u001b[0m\u001b[1;33m(\u001b[0m\u001b[1;34m\"datos/MexicoPobrezaOrdenado.csv\"\u001b[0m\u001b[1;33m,\u001b[0m \u001b[0mindex\u001b[0m\u001b[1;33m=\u001b[0m\u001b[1;32mFalse\u001b[0m\u001b[1;33m)\u001b[0m\u001b[1;33m\u001b[0m\u001b[1;33m\u001b[0m\u001b[0m\n",
      "\u001b[1;31mTypeError\u001b[0m: drop_duplicates() got an unexpected keyword argument 'ignore_index'"
     ]
    }
   ],
   "source": [
    "df=df.replace(\"Nuevo Le?n\",\"Nuevo León\")\n",
    "df=df.replace(\"San Luis Potos?\",\"San Luis Potosí\")\n",
    "df=df.replace(\"Quer?taro de Arteaga\",\"Querétaro de Arteaga\")\n",
    "df=df.replace(\"M?xico\",\"México\")\n",
    "\n",
    "df=df.drop([\"MUNIG_\",\"MUNIG_ID\",\"ADM1CODE\",\"ADM2CODE\",\"PERIMETER\",\"MEANILIT15\",\"MEANSELE15\",\"MEANCELE15\",\"MEANSSEC15\",\"MEANCSEC15\"],axis=1)\n",
    "\n",
    "NuevosNombresColumnas={\"ADM1NAME\": \"ESTADOS\", \n",
    "                        \"ADM2NAME\": \"MUNICIPIOS\",\n",
    "                        \"RURPER\":\"POBLACION RURAL\",\n",
    "                        \"FGT_0RUR00\":\"POBREZA ALIMENTARIA 2000\",\n",
    "                        \"FGT_0RUR02\":\"POBREZA ALIMENTARIA 2002\",\n",
    "                        \"ACCESO\":\"ACCESO (min)\"\n",
    "                      } \n",
    "df=df.rename(columns=NuevosNombresColumnas)\n",
    "df=df.drop_duplicates([\"MUNICIPIOS\"], keep='last', ignore_index=True) #tenía varias filas repetidas, por ello elimino los municipios repetidos.\n",
    "df=df.sort_values(\"ESTADOS\",ignore_index=True)\n",
    "df.to_csv(\"datos/MexicoPobrezaOrdenado.csv\", index=False)\n",
    "\n",
    "arregloEstados=df[\"ESTADOS\"].unique()\n",
    "arregloEstados=np.sort(arregloEstados)\n",
    "indices=np.arange(0,arregloEstados.shape[0])\n",
    "Estados=pd.DataFrame(arregloEstados,columns=[\"ESTADO\"],index=indices)#dataframe de una columna con los estados\n",
    "\n",
    "print(\"Buscando municipios mas apartados...\")\n",
    "dfMasApartados=pd.DataFrame(columns=[\"ESTADOS\",\"MUNICIPIOS\",\"ACCESO (min)\"])\n",
    "for i in range(Estados.shape[0]):\n",
    "    estado=Estados[\"ESTADO\"][i]\n",
    "    dfPorEstado1=df.loc[df[\"ESTADOS\"]==estado]\n",
    "    MasApartados=dfPorEstado1.sort_values(\"ACCESO (min)\", ascending=False, ignore_index=True)[0:3]\n",
    "    MasApartados=MasApartados.loc[:,[\"ESTADOS\",\"MUNICIPIOS\",\"ACCESO (min)\"]]\n",
    "    dfMasApartados=pd.concat([dfMasApartados, MasApartados],axis=0, ignore_index=True)\n",
    "dfMasApartados.to_csv(\"datos/MunicipiosMasApartados.csv\", index=False)\n",
    "print(\"finalizado\")\n",
    "\n",
    "print(\"Buscando promedio de población rural...\")\n",
    "dfRURAL=pd.DataFrame(columns=[\"ESTADOS\",\"POBLACION RURAL (MEDIA)\"])\n",
    "for i in range(Estados.shape[0]):\n",
    "    estado=Estados[\"ESTADO\"][i]\n",
    "    dfPorEstado2=df.loc[df[\"ESTADOS\"]==estado]\n",
    "    mediaRural=dfPorEstado2[\"POBLACION RURAL\"].mean()\n",
    "    fila=pd.DataFrame([[Estados[\"ESTADO\"][i],mediaRural]],columns=dfRURAL.columns)\n",
    "    dfRURAL=dfRURAL.append(fila, ignore_index=True)\n",
    "dfRURAL=dfRURAL.sort_values(\"POBLACION RURAL (MEDIA)\", ascending=False,ignore_index=True)\n",
    "dfRURAL.to_csv(\"datos/MayorPoblacionRural.csv\", index=False)\n",
    "print(\"finalizado\")\n",
    "\n",
    "\n",
    "#POBREZA ALIMENTARIA 2002 y POBREZA ALIMENTARIA 2000 son la fracción prevista de hogares rurales por debajo del umbral de pobreza alimentaria en 2002 y 2000\n",
    "#a continuación las convierto en porcentaje y busco la diferencia\n",
    "print(\"iniciando filtrado según pobreza alimentaria\")\n",
    "dfDIFERENCIA=pd.DataFrame(columns=[\"ESTADOS\",\"MUNICIPIOS\",\"POBREZA ALIMENTARIA 2000\",\"POBREZA ALIMENTARIA 2002\",\"DIFERENCIA\"])\n",
    "filaDiferencia=[]\n",
    "for i in range(df.shape[0]):\n",
    "    df[\"POBREZA ALIMENTARIA 2000\"][i]*=100\n",
    "    df[\"POBREZA ALIMENTARIA 2002\"][i]*=100\n",
    "    diferencia=df[\"POBREZA ALIMENTARIA 2000\"][i]-df[\"POBREZA ALIMENTARIA 2002\"][i]\n",
    "    filaDiferencia.append(diferencia)\n",
    "df[\"DIFERENCIA\"]=filaDiferencia\n",
    "for i in range (Estados.shape[0]):\n",
    "    estado=Estados[\"ESTADO\"][i]\n",
    "    dfPorEstado3=df.loc[df[\"ESTADOS\"]==estado]\n",
    "    dfPorEstado3=dfPorEstado3.sort_values(\"DIFERENCIA\", ascending=False, ignore_index=True)\n",
    "    nuevaFila1=dfPorEstado3.iloc[[0]]\n",
    "    nuevaFila1=nuevaFila1.loc[:,[\"ESTADOS\",\"MUNICIPIOS\",\"POBREZA ALIMENTARIA 2000\",\"POBREZA ALIMENTARIA 2002\",\"DIFERENCIA\"]]\n",
    "    nuevaFila2=dfPorEstado3.iloc[[-1]] \n",
    "    nuevaFila2=nuevaFila2.loc[:,[\"ESTADOS\",\"MUNICIPIOS\",\"POBREZA ALIMENTARIA 2000\",\"POBREZA ALIMENTARIA 2002\",\"DIFERENCIA\"]]\n",
    "    dfDIFERENCIA=pd.concat([dfDIFERENCIA, nuevaFila1],axis=0, ignore_index=True)\n",
    "    dfDIFERENCIA=pd.concat([dfDIFERENCIA, nuevaFila2],axis=0, ignore_index=True)\n",
    "dfDIFERENCIA.to_csv(\"datos/PobrezaAlimentaria.csv\", index=False)    \n",
    "print(\"finalizado\")"
   ]
  },
  {
   "cell_type": "markdown",
   "metadata": {},
   "source": [
    "Municipios mas apartados:\n",
    "Me pareció importante tomar los tres municipios de cada estado mas apartados de los centros urbanos pues pueden ser los mas propensos a quedar olvidados y a que no les llegue recursos.\n",
    "\n",
    "Población rural:\n",
    "Esto no muestra en sí la media de porcentaje población rural porque hace falta considerar otros factores. Lo que realmente quería era mostrar qué estados tienen mayor cantidad de municipios con alto porcentaje de población rural, porque creo que estos estados tienen un reto aun mas grande para superar el resago, en cuanto a oportunidades, presente en las zonas rurales.\n",
    "\n",
    "Pobreza alimenticia:\n",
    "Con esto busco resaltar, por cada estado, el que mas lograró disminuir el porcentaje de hogares por debajo del umbral de pobreza alimenticia y el municipio que menos lo disminuyó o que incluso lo aumentó. Hago esto pues algunas de las consecencias mas frecuentes de la pobreza extrema son el hambre y la desnutrición, entonces uno así puede hacer un contraste entre los que mejoraron y los que empeoraron para posteriormente mirar en esos lugares lo que se ha hecho y lo que se puede mejorar. En sí yo no encuentro esas respuestas pues no tengo esos datos, sino que indico los lugares en los que se debe mirar."
   ]
  },
  {
   "cell_type": "code",
   "execution_count": 16,
   "metadata": {},
   "outputs": [],
   "source": [
    "from matplotlib import pyplot as plt \n",
    "import random\n",
    "\n",
    "def mostrarMunicipiosApartados(dato):\n",
    "    municipios=dfMasApartados.loc[dfMasApartados[\"ESTADOS\"]==dato]\n",
    "    municipios=municipios.drop([\"ESTADOS\"],axis=1)\n",
    "    municipios=municipios.reset_index(drop=True)\n",
    "    print(\"los 3 municipios de {} mas alejados de los centros urbanos son:\".format(dato))\n",
    "    print(\" \")\n",
    "    print(municipios)\n",
    "    print(\" \")\n",
    "    \n",
    "    municipios.plot.bar(x=\"MUNICIPIOS\", y=\"ACCESO (min)\", rot=0)\n",
    "    plt.show()\n",
    "    \n",
    "def mostrarPoblacionRural(dato):\n",
    "    print(\"el promedio del porcentaje de población rural en {} es:\".format(dato))\n",
    "    print(\" \")\n",
    "    indice=(list(dfRURAL[\"ESTADOS\"])).index(dato)\n",
    "    print(dfRURAL.iloc[[indice]])\n",
    "    print(\" \")\n",
    "    \n",
    "    municipios=df.loc[df[\"ESTADOS\"]==dato]\n",
    "    municipios=municipios.reset_index(drop=True)\n",
    "    municipios=municipios.loc[:,[\"MUNICIPIOS\",\"POBLACION RURAL\"]]\n",
    "    \n",
    "    plt.ion()\n",
    "    listaColores=['blue', 'orange', 'green', 'red', 'purple', 'brown', 'pink', 'gray', 'olive', 'cyan']\n",
    "    color=random.choice(listaColores)              \n",
    "    x=np.arange(0,municipios[\"MUNICIPIOS\"].shape[0])\n",
    "    y=np.array(municipios[\"POBLACION RURAL\"])\n",
    "    \n",
    "    plt.scatter(x, y, s=100, c=color, marker='o',alpha=0.9)\n",
    "    plt.title(\"Porcentaje de poblacion rural de sus municipios\")\n",
    "    plt.ylabel(\"%\")\n",
    "    plt.show()\n",
    "    \n",
    "def mostrarPobrezaAlimenticia(dato):\n",
    "    municipios=dfDIFERENCIA.loc[dfDIFERENCIA[\"ESTADOS\"]==dato]\n",
    "    municipios=municipios.drop([\"ESTADOS\"])\n",
    "    dfParaGraficar=municipios.drop([\"DIFERENCIA\"])\n",
    "    dfParaGrafica=dfParaGrafica.set_index(\"MUNICIPIOS\") \n",
    "    print(\"Se muestra el municipio de {} que mayor cambio tuvo y el que menor cambio tuvo entre 2000 y 2002 \\n\".format(dato))\n",
    "    print(\"Nota: una diferencia negativa indica que AUMENTÓ el porcentaje de hogares por debajo del umbral pobreza alimenticia de 2000 a 2002 \\n\")\n",
    "    print(municipios)\n",
    "    \n",
    "    dfParaGraficar.plot.bar(rot=0)\n",
    "    plt.show()\n",
    "    \n",
    "    \n",
    "    "
   ]
  },
  {
   "cell_type": "markdown",
   "metadata": {},
   "source": [
    "\n"
   ]
  },
  {
   "cell_type": "code",
   "execution_count": null,
   "metadata": {},
   "outputs": [],
   "source": [
    "arregloMunicipios=df[\"MUNICIPIOS\"]\n",
    "arregloMunicipios=np.sort(arregloMunicipios)\n",
    "indices=np.arange(0,arregloMunicipios.shape[0])\n",
    "Municipios=pd.DataFrame(arregloMunicipios,columns=[\"MUNICIPIO\"],index=indices)#dataframe de una columna con los municipios\n",
    "\n",
    "While True:\n",
    "    \n",
    "    "
   ]
  }
 ],
 "metadata": {
  "kernelspec": {
   "display_name": "Python 3",
   "language": "python",
   "name": "python3"
  },
  "language_info": {
   "codemirror_mode": {
    "name": "ipython",
    "version": 3
   },
   "file_extension": ".py",
   "mimetype": "text/x-python",
   "name": "python",
   "nbconvert_exporter": "python",
   "pygments_lexer": "ipython3",
   "version": "3.7.3"
  }
 },
 "nbformat": 4,
 "nbformat_minor": 4
}
